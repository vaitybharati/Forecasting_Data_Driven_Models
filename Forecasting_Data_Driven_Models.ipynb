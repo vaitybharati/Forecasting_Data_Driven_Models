{
  "nbformat": 4,
  "nbformat_minor": 0,
  "metadata": {
    "kernelspec": {
      "display_name": "Python 3",
      "language": "python",
      "name": "python3"
    },
    "language_info": {
      "codemirror_mode": {
        "name": "ipython",
        "version": 3
      },
      "file_extension": ".py",
      "mimetype": "text/x-python",
      "name": "python",
      "nbconvert_exporter": "python",
      "pygments_lexer": "ipython3",
      "version": "3.7.4"
    },
    "colab": {
      "name": "Forecasting_Data Driven Models.ipynb",
      "provenance": [],
      "collapsed_sections": [],
      "toc_visible": true
    }
  },
  "cells": [
    {
      "cell_type": "code",
      "metadata": {
        "id": "V7prH1ItSeO4"
      },
      "source": [
        "import pandas as pd\n",
        "import numpy as np\n",
        "import matplotlib.pyplot as plt\n",
        "import seaborn as sns\n",
        "from statsmodels.tsa.seasonal import seasonal_decompose\n",
        "from statsmodels.tsa.holtwinters import SimpleExpSmoothing # SES\n",
        "from statsmodels.tsa.holtwinters import Holt # Holts Exponential Smoothing\n",
        "from statsmodels.tsa.holtwinters import ExponentialSmoothing "
      ],
      "execution_count": null,
      "outputs": []
    },
    {
      "cell_type": "code",
      "metadata": {
        "id": "ZacORqlKSeO4"
      },
      "source": [
        "Walmart = pd.read_csv(\"footfalls.csv\")\n",
        "Walmart.Footfalls.plot()"
      ],
      "execution_count": null,
      "outputs": []
    },
    {
      "cell_type": "markdown",
      "metadata": {
        "id": "gCqBIrhXSeO6"
      },
      "source": [
        "# Splitting data"
      ]
    },
    {
      "cell_type": "code",
      "metadata": {
        "id": "Phj4HowYSeO6"
      },
      "source": [
        "Train = Walmart.head(147)\n",
        "Test = Walmart.tail(12)"
      ],
      "execution_count": null,
      "outputs": []
    },
    {
      "cell_type": "markdown",
      "metadata": {
        "id": "xaG_cu5xSeO6"
      },
      "source": [
        "# Moving Average "
      ]
    },
    {
      "cell_type": "code",
      "metadata": {
        "id": "AidqG-vjSeO6"
      },
      "source": [
        "plt.figure(figsize=(12,4))\n",
        "Walmart.Footfalls.plot(label=\"org\")\n",
        "for i in range(2,24,6):\n",
        "    Walmart[\"Footfalls\"].rolling(i).mean().plot(label=str(i))\n",
        "plt.legend(loc='best')"
      ],
      "execution_count": null,
      "outputs": []
    },
    {
      "cell_type": "markdown",
      "metadata": {
        "id": "fMvH1lMPSeO6"
      },
      "source": [
        "# Time series decomposition plot \n"
      ]
    },
    {
      "cell_type": "code",
      "metadata": {
        "id": "liWgOqGASeO6"
      },
      "source": [
        "decompose_ts_add = seasonal_decompose(Walmart.Footfalls,freq=12)\n",
        "decompose_ts_add.plot()\n",
        "plt.show()"
      ],
      "execution_count": null,
      "outputs": []
    },
    {
      "cell_type": "markdown",
      "metadata": {
        "id": "CgrHoKknSeO6"
      },
      "source": [
        "# ACF plots and PACF plots\n"
      ]
    },
    {
      "cell_type": "code",
      "metadata": {
        "id": "tSiR6-KpSeO6"
      },
      "source": [
        "import statsmodels.graphics.tsaplots as tsa_plots\n",
        "tsa_plots.plot_acf(Walmart.Footfalls,lags=12)\n",
        "tsa_plots.plot_pacf(Walmart.Footfalls,lags=12)\n",
        "plt.show()\n"
      ],
      "execution_count": null,
      "outputs": []
    },
    {
      "cell_type": "markdown",
      "metadata": {
        "id": "mvb9283ESeO6"
      },
      "source": [
        "### Evaluation Metric MAPE"
      ]
    },
    {
      "cell_type": "code",
      "metadata": {
        "id": "TM8R1Lk8SeO6"
      },
      "source": [
        "def MAPE(pred,org):\n",
        "    temp = np.abs((pred-org)/org)*100\n",
        "    return np.mean(temp)"
      ],
      "execution_count": null,
      "outputs": []
    },
    {
      "cell_type": "markdown",
      "metadata": {
        "id": "vBbqWKizSeO7"
      },
      "source": [
        "### Simple Exponential Method\n"
      ]
    },
    {
      "cell_type": "code",
      "metadata": {
        "id": "0KTx3kYzSeO7"
      },
      "source": [
        "ses_model = SimpleExpSmoothing(Train[\"Footfalls\"]).fit(smoothing_level=0.2)\n",
        "pred_ses = ses_model.predict(start = Test.index[0],end = Test.index[-1])\n",
        "MAPE(pred_ses,Test.Footfalls) \n"
      ],
      "execution_count": null,
      "outputs": []
    },
    {
      "cell_type": "markdown",
      "metadata": {
        "id": "qqIih9-5SeO7"
      },
      "source": [
        "### Holt method "
      ]
    },
    {
      "cell_type": "code",
      "metadata": {
        "id": "eyHzuDJDSeO7"
      },
      "source": [
        "# Holt method \n",
        "hw_model = Holt(Train[\"Footfalls\"]).fit(smoothing_level=0.8, smoothing_slope=0.2)\n",
        "pred_hw = hw_model.predict(start = Test.index[0],end = Test.index[-1])\n",
        "MAPE(pred_hw,Test.Footfalls) "
      ],
      "execution_count": null,
      "outputs": []
    },
    {
      "cell_type": "markdown",
      "metadata": {
        "id": "exZEOE-XSeO7"
      },
      "source": [
        "### Holts winter exponential smoothing with additive seasonality and additive trend\n"
      ]
    },
    {
      "cell_type": "code",
      "metadata": {
        "id": "AF7c4zucSeO7"
      },
      "source": [
        "hwe_model_add_add = ExponentialSmoothing(Train[\"Footfalls\"],seasonal=\"add\",trend=\"add\",seasonal_periods=12).fit() #add the trend to the model\n",
        "pred_hwe_add_add = hwe_model_add_add.predict(start = Test.index[0],end = Test.index[-1])\n",
        "MAPE(pred_hwe_add_add,Test.Footfalls) "
      ],
      "execution_count": null,
      "outputs": []
    },
    {
      "cell_type": "markdown",
      "metadata": {
        "id": "kvY3qTcCSeO7"
      },
      "source": [
        "### Holts winter exponential smoothing with multiplicative seasonality and additive trend"
      ]
    },
    {
      "cell_type": "code",
      "metadata": {
        "id": "9WoSDXk6SeO7"
      },
      "source": [
        "hwe_model_mul_add = ExponentialSmoothing(Train[\"Footfalls\"],seasonal=\"mul\",trend=\"add\",seasonal_periods=12).fit() \n",
        "pred_hwe_mul_add = hwe_model_mul_add.predict(start = Test.index[0],end = Test.index[-1])\n",
        "MAPE(pred_hwe_mul_add,Test.Footfalls)"
      ],
      "execution_count": null,
      "outputs": []
    },
    {
      "cell_type": "markdown",
      "metadata": {
        "id": "4AUxg8gLSeO7"
      },
      "source": [
        "## Final Model by combining train and test"
      ]
    },
    {
      "cell_type": "code",
      "metadata": {
        "id": "XO3l_LBQSeO7"
      },
      "source": [
        "hwe_model_add_add = ExponentialSmoothing(Walmart[\"Footfalls\"],seasonal=\"add\",trend=\"add\",seasonal_periods=12).fit()"
      ],
      "execution_count": null,
      "outputs": []
    },
    {
      "cell_type": "code",
      "metadata": {
        "id": "PDj7hS5qSeO7"
      },
      "source": [
        "#Forecasting for next 10 time periods\n",
        "hwe_model_add_add.forecast(10)"
      ],
      "execution_count": null,
      "outputs": []
    },
    {
      "cell_type": "code",
      "metadata": {
        "id": "nlq3FliVSeO8"
      },
      "source": [
        ""
      ],
      "execution_count": null,
      "outputs": []
    }
  ]
}